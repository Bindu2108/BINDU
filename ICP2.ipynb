{
  "nbformat": 4,
  "nbformat_minor": 0,
  "metadata": {
    "colab": {
      "provenance": [],
      "authorship_tag": "ABX9TyM8ANlRFvolMBeJcHmKoPPd",
      "include_colab_link": true
    },
    "kernelspec": {
      "name": "python3",
      "display_name": "Python 3"
    },
    "language_info": {
      "name": "python"
    }
  },
  "cells": [
    {
      "cell_type": "markdown",
      "metadata": {
        "id": "view-in-github",
        "colab_type": "text"
      },
      "source": [
        "<a href=\"https://colab.research.google.com/github/Bindu2108/BINDU/blob/main/ICP2.ipynb\" target=\"_parent\"><img src=\"https://colab.research.google.com/assets/colab-badge.svg\" alt=\"Open In Colab\"/></a>"
      ]
    },
    {
      "cell_type": "code",
      "execution_count": 4,
      "metadata": {
        "colab": {
          "base_uri": "https://localhost:8080/"
        },
        "id": "QcV-YxHyNCFg",
        "outputId": "eeb06158-508c-4f63-908a-5064ab0a8604"
      },
      "outputs": [
        {
          "output_type": "stream",
          "name": "stdout",
          "text": [
            "Enter first name: Venkata\n",
            "Enter last name: Neeraj\n",
            "Full Name: Venkata Neeraj\n"
          ]
        }
      ],
      "source": [
        "  def fullname(first_name, last_name):\n",
        "    return first_name + \" \" + last_name\n",
        "\n",
        "first_name = input(\"Enter first name: \")\n",
        "last_name = input(\"Enter last name: \")\n",
        "full_name = fullname(first_name, last_name)\n",
        "print(\"Full Name:\", full_name)"
      ]
    },
    {
      "cell_type": "code",
      "source": [
        "def string_alternative(stra):\n",
        "    return stra[::2]\n",
        "\n",
        "def main():\n",
        "    stra=input(\"Enter an input string: \")\n",
        "    alternate_chars = string_alternative(stra)\n",
        "    print(\"Alternate characters in Full Name:\", alternate_chars)\n",
        "if __name__ == \"__main__\":\n",
        "    main()"
      ],
      "metadata": {
        "colab": {
          "base_uri": "https://localhost:8080/"
        },
        "id": "0lZVrsHtNl_7",
        "outputId": "045ab379-f8aa-46ec-9579-d99f89608b23"
      },
      "execution_count": 6,
      "outputs": [
        {
          "output_type": "stream",
          "name": "stdout",
          "text": [
            "Enter an input string: Neural\n",
            "Alternate characters in Full Name: Nua\n"
          ]
        }
      ]
    },
    {
      "cell_type": "code",
      "source": [
        "with open('input.txt', 'w') as f:\n",
        "    f.write(\"Python Course\\n\")\n",
        "    f.write(\"Deep Learning Course\\n\")"
      ],
      "metadata": {
        "id": "jB5gzieDNsRh"
      },
      "execution_count": 8,
      "outputs": []
    },
    {
      "cell_type": "code",
      "source": [
        "def count_words_in_file(input_file, output_file):\n",
        "    word_count = {} # Initialize word_count dictionary\n",
        "# Read input file\n",
        "    with open(input_file, 'r') as file:\n",
        "        lines = file.readlines()\n",
        "    # Process each line\n",
        "        for line in lines:\n",
        "            words = line.strip().split()\n",
        "            for word in words:\n",
        "                if word in word_count:\n",
        "                    word_count[word] += 1\n",
        "                else:\n",
        "                    word_count[word] = 1\n",
        "\n",
        "    # Write output to file\n",
        "    with open(output_file, 'w') as file:\n",
        "        # Write original lines\n",
        "        for line in lines:\n",
        "            file.write(line)\n",
        "\n",
        "        file.write(\"Word_Count:\\n\")\n",
        "        # Write word counts\n",
        "        for word, count in sorted(word_count.items()):\n",
        "            file.write(f\"{word}: {count}\\n\")\n",
        "\n",
        "    print(f\"Output has been written to {output_file}\")\n",
        "# Usage example\n",
        "input_file = \"input.txt\"\n",
        "output_file = \"output.txt\"\n",
        "count_words_in_file(input_file, output_file)"
      ],
      "metadata": {
        "colab": {
          "base_uri": "https://localhost:8080/"
        },
        "id": "Q3nLVsS8N00P",
        "outputId": "347761a5-a609-4af6-ad51-1aa31df9771a"
      },
      "execution_count": 10,
      "outputs": [
        {
          "output_type": "stream",
          "name": "stdout",
          "text": [
            "Output has been written to output.txt\n"
          ]
        }
      ]
    },
    {
      "cell_type": "code",
      "source": [
        "with open('output.txt', 'r') as f:\n",
        "    content = f.read()\n",
        "\n",
        "print(\"Content of input.txt:\")\n",
        "print(content)"
      ],
      "metadata": {
        "colab": {
          "base_uri": "https://localhost:8080/"
        },
        "id": "YBiYUURHOQWK",
        "outputId": "12981dae-6bc6-43f7-b3f0-460a31e398ae"
      },
      "execution_count": 11,
      "outputs": [
        {
          "output_type": "stream",
          "name": "stdout",
          "text": [
            "Content of input.txt:\n",
            "Python Course\n",
            "Deep Learning Course\n",
            "Word_Count:\n",
            "Course: 2\n",
            "Deep: 1\n",
            "Learning: 1\n",
            "Python: 1\n",
            "\n"
          ]
        }
      ]
    },
    {
      "cell_type": "code",
      "source": [
        "def convert_heights_nested(heights_inches):\n",
        "    heights_cm = []\n",
        "    for inch in heights_inches:\n",
        "        cm = inch * 2.54\n",
        "        heights_cm.append(round(cm, 2))\n",
        "    return heights_cm\n",
        "\n",
        "def main_nested():\n",
        "    num_customers = int(input(\"Enter the number of customers: \"))\n",
        "    heights_inches = []\n",
        "    for i in range(num_customers):\n",
        "        height_inch = float(input(f\"Enter height in inches for customer {i+1}: \"))\n",
        "        heights_inches.append(height_inch)\n",
        "    heights_cm = convert_heights_nested(heights_inches)\n",
        "    print(\"Heights in Inches:\", heights_inches)\n",
        "    print(\"Heights in Centimeters:\", heights_cm)\n",
        "\n",
        "if __name__ == \"__main__\":\n",
        "    main_nested()"
      ],
      "metadata": {
        "colab": {
          "base_uri": "https://localhost:8080/"
        },
        "id": "g3C3WvqYOWBr",
        "outputId": "2562d919-51b9-4e71-a409-028a0fb1ed48"
      },
      "execution_count": 12,
      "outputs": [
        {
          "output_type": "stream",
          "name": "stdout",
          "text": [
            "Enter the number of customers: 2\n",
            "Enter height in inches for customer 1: 23\n",
            "Enter height in inches for customer 2: 43\n",
            "Heights in Inches: [23.0, 43.0]\n",
            "Heights in Centimeters: [58.42, 109.22]\n"
          ]
        }
      ]
    },
    {
      "cell_type": "code",
      "source": [
        "def convert_heights_comprehension(heights_inches):\n",
        "    return [round(inch * 2.54, 2) for inch in heights_inches]\n",
        "\n",
        "def main_comprehension():\n",
        "    num_customers = int(input(\"Enter the number of customers: \"))\n",
        "    heights_inches = [float(input(f\"Enter height in inches for customer {i+1}: \")) for i in range(num_customers)]\n",
        "    heights_cm = convert_heights_comprehension(heights_inches)\n",
        "    print(\"Heights in Inches:\", heights_inches)\n",
        "    print(\"Heights in Centi:\", heights_cm)\n",
        "\n",
        "if __name__ == \"__main__\":\n",
        "    main_comprehension()"
      ],
      "metadata": {
        "colab": {
          "base_uri": "https://localhost:8080/"
        },
        "id": "Yw4gnkR8Ob-S",
        "outputId": "5668a90a-9ca9-4e5a-e49d-549767796f2c"
      },
      "execution_count": 13,
      "outputs": [
        {
          "output_type": "stream",
          "name": "stdout",
          "text": [
            "Enter the number of customers: 2\n",
            "Enter height in inches for customer 1: 25\n",
            "Enter height in inches for customer 2: 43\n",
            "Heights in Inches: [25.0, 43.0]\n",
            "Heights in Centi: [63.5, 109.22]\n"
          ]
        }
      ]
    }
  ]
}
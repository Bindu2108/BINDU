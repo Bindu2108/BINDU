{
  "nbformat": 4,
  "nbformat_minor": 0,
  "metadata": {
    "colab": {
      "provenance": [],
      "authorship_tag": "ABX9TyOlXxAP+LXgubg1n4Z9bA+a",
      "include_colab_link": true
    },
    "kernelspec": {
      "name": "python3",
      "display_name": "Python 3"
    },
    "language_info": {
      "name": "python"
    }
  },
  "cells": [
    {
      "cell_type": "markdown",
      "metadata": {
        "id": "view-in-github",
        "colab_type": "text"
      },
      "source": [
        "<a href=\"https://colab.research.google.com/github/Bindu2108/BINDU/blob/main/ICP2.ipynb\" target=\"_parent\"><img src=\"https://colab.research.google.com/assets/colab-badge.svg\" alt=\"Open In Colab\"/></a>"
      ]
    },
    {
      "cell_type": "code",
      "execution_count": 2,
      "metadata": {
        "colab": {
          "base_uri": "https://localhost:8080/"
        },
        "id": "Q46k72RakBhg",
        "outputId": "89ceb3fb-a96b-4075-8384-f20d63315646"
      },
      "outputs": [
        {
          "output_type": "stream",
          "name": "stdout",
          "text": [
            "Enter your first name: bindu\n",
            "Enter your last name: yallapragada\n",
            "Full Name: bindu yallapragada\n"
          ]
        }
      ],
      "source": [
        "def fullname(first_name, last_name):\n",
        "    return first_name + \" \" + last_name\n",
        "first_name = input(\"Enter your first name: \")\n",
        "last_name = input(\"Enter your last name: \")\n",
        "full_name = fullname(first_name, last_name)\n",
        "print(\"Full Name:\", full_name)"
      ]
    },
    {
      "cell_type": "code",
      "source": [
        "def string_alternative(stra):\n",
        "    return stra[::2]\n",
        "\n",
        "def main():\n",
        "    stra=input(\"Enter an input string: \")\n",
        "    alternate_chars = string_alternative(stra)\n",
        "    print(\"Alternate characters in Full Name:\", alternate_chars)\n",
        "if __name__ == \"__main__\":\n",
        "    main()"
      ],
      "metadata": {
        "colab": {
          "base_uri": "https://localhost:8080/"
        },
        "id": "Ca6cM4Tpkl6Z",
        "outputId": "01624a73-0ba9-467b-9841-dc933270a67a"
      },
      "execution_count": 11,
      "outputs": [
        {
          "output_type": "stream",
          "name": "stdout",
          "text": [
            "Enter an input string: python\n",
            "Alternate characters in Full Name: pto\n"
          ]
        }
      ]
    },
    {
      "cell_type": "code",
      "source": [
        "with open('input.txt', 'w') as f:\n",
        "    f.write(\"Python Course\\n\")\n",
        "    f.write(\"Deep Learning Course\\n\")"
      ],
      "metadata": {
        "id": "cMypIZ_KlCmv"
      },
      "execution_count": 4,
      "outputs": []
    },
    {
      "cell_type": "code",
      "source": [
        "def count_words_in_file(input_file, output_file):\n",
        "    word_count = {} # Initialize word_count dictionary\n",
        "# Read input file\n",
        "    with open(input_file, 'r') as file:\n",
        "        lines = file.readlines()\n",
        "    # Process each line\n",
        "        for line in lines:\n",
        "            words = line.strip().split()\n",
        "            for word in words:\n",
        "                if word in word_count:\n",
        "                    word_count[word] += 1\n",
        "                else:\n",
        "                    word_count[word] = 1\n",
        "\n",
        "    # Write output to file\n",
        "    with open(output_file, 'w') as file:\n",
        "        # Write original lines\n",
        "        for line in lines:\n",
        "            file.write(line)\n",
        "\n",
        "        file.write(\"Word_Count:\\n\")\n",
        "        # Write word counts\n",
        "        for word, count in sorted(word_count.items()):\n",
        "            file.write(f\"{word}: {count}\\n\")\n",
        "\n",
        "    print(f\"Output has been written to {output_file}\")\n",
        "    # Usage example\n",
        "input_file = \"input.txt\"\n",
        "output_file = \"output.txt\"\n",
        "count_words_in_file(input_file, output_file)\n",
        "with open('output.txt', 'r') as f:\n",
        "    content = f.read()\n",
        "\n",
        "print(\"Content of input.txt:\")\n",
        "print(content)"
      ],
      "metadata": {
        "colab": {
          "base_uri": "https://localhost:8080/"
        },
        "id": "rIWPrEm6lHdq",
        "outputId": "af26d73e-3286-4b89-afcd-3c17bd56a6fe"
      },
      "execution_count": 13,
      "outputs": [
        {
          "output_type": "stream",
          "name": "stdout",
          "text": [
            "Output has been written to output.txt\n",
            "Content of input.txt:\n",
            "Python Course\n",
            "Deep Learning Course\n",
            "Word_Count:\n",
            "Course: 2\n",
            "Deep: 1\n",
            "Learning: 1\n",
            "Python: 1\n",
            "\n"
          ]
        }
      ]
    },
    {
      "cell_type": "code",
      "source": [
        "def convert_heights_nested(heights_inches):\n",
        "    heights_cm = []\n",
        "    for inch in heights_inches:\n",
        "        cm = inch * 2.54\n",
        "        heights_cm.append(round(cm, 2))\n",
        "    return heights_cm\n",
        "\n",
        "def main_nested():\n",
        "    num_customers = int(input(\"Enter the number of customers: \"))\n",
        "    heights_inches = []\n",
        "    for i in range(num_customers):\n",
        "        height_inch = float(input(f\"Enter height in inches for customer {i+1}: \"))\n",
        "        heights_inches.append(height_inch)\n",
        "    heights_cm = convert_heights_nested(heights_inches)\n",
        "    print(\"Heights in Inches:\", heights_inches)\n",
        "    print(\"Heights in Centimeters:\", heights_cm)\n",
        "\n",
        "if __name__ == \"__main__\":\n",
        "    main_nested()"
      ],
      "metadata": {
        "colab": {
          "base_uri": "https://localhost:8080/"
        },
        "id": "nQII42rzmCPX",
        "outputId": "e3345637-826a-44c4-9938-12885ddf74bf"
      },
      "execution_count": 6,
      "outputs": [
        {
          "output_type": "stream",
          "name": "stdout",
          "text": [
            "Enter the number of customers: 2\n",
            "Enter height in inches for customer 1: 10\n",
            "Enter height in inches for customer 2: 55\n",
            "Heights in Inches: [10.0, 55.0]\n",
            "Heights in Centimeters: [25.4, 139.7]\n"
          ]
        }
      ]
    },
    {
      "cell_type": "code",
      "source": [
        "def convert_heights_comprehension(heights_inches):\n",
        "    return [round(inch * 2.54, 2) for inch in heights_inches]\n",
        "\n",
        "def main_comprehension():\n",
        "    num_customers = int(input(\"Enter the number of customers: \"))\n",
        "    heights_inches = [float(input(f\"Enter height in inches for customer {i+1}: \")) for i in range(num_customers)]\n",
        "    heights_cm = convert_heights_comprehension(heights_inches)\n",
        "    print(\"Heights in Inches:\", heights_inches)\n",
        "    print(\"Heights in Centi:\", heights_cm)\n",
        "\n",
        "if __name__ == \"__main__\":\n",
        "    main_comprehension()"
      ],
      "metadata": {
        "colab": {
          "base_uri": "https://localhost:8080/"
        },
        "id": "SPw-8tp7mUWs",
        "outputId": "d4961210-6ad2-4293-b6be-8b7fb11d515b"
      },
      "execution_count": 8,
      "outputs": [
        {
          "output_type": "stream",
          "name": "stdout",
          "text": [
            "Enter the number of customers: 3\n",
            "Enter height in inches for customer 1: 45\n",
            "Enter height in inches for customer 2: 55\n",
            "Enter height in inches for customer 3: 34\n",
            "Heights in Inches: [45.0, 55.0, 34.0]\n",
            "Heights in Centi: [114.3, 139.7, 86.36]\n"
          ]
        }
      ]
    }
  ]
}